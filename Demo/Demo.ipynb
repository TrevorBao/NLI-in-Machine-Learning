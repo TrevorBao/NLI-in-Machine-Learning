{
 "cells": [
  {
   "cell_type": "markdown",
   "id": "b5b203e0",
   "metadata": {},
   "source": [
    "# Load Necessary Libraries and data"
   ]
  },
  {
   "cell_type": "code",
   "execution_count": 1,
   "id": "92e05272",
   "metadata": {},
   "outputs": [],
   "source": [
    "# !pip install -U sentence-transformers\n",
    "# !pip install joblib"
   ]
  },
  {
   "cell_type": "code",
   "execution_count": 2,
   "id": "3fbee3c4",
   "metadata": {},
   "outputs": [],
   "source": [
    "from sentence_transformers import SentenceTransformer\n",
    "import torch\n",
    "import torch.nn as nn\n",
    "import torch.nn.functional as F\n",
    "from torch.utils.data import Dataset, DataLoader\n",
    "from joblib import load\n",
    "import pandas as pd\n",
    "import numpy as np"
   ]
  },
  {
   "cell_type": "code",
   "execution_count": 3,
   "id": "89b2d9d7",
   "metadata": {},
   "outputs": [],
   "source": [
    "# Load the data for prediction\n",
    "data = pd.read_csv('test.csv')\n",
    "\n",
    "# Load the SBERT model\n",
    "sentence_model = SentenceTransformer('all-MiniLM-L6-v2')"
   ]
  },
  {
   "cell_type": "code",
   "execution_count": 4,
   "id": "8dc57eb7",
   "metadata": {},
   "outputs": [],
   "source": [
    "def generate_embeddings(dataframe, model):\n",
    "    # Generate embeddings for premises and hypotheses separately\n",
    "    premise_embeddings = model.encode(dataframe['premise'].tolist(), show_progress_bar=True)\n",
    "    hypothesis_embeddings = model.encode(dataframe['hypothesis'].tolist(), show_progress_bar=True)\n",
    "    \n",
    "    # Combine the two sets of embeddings into one feature set\n",
    "    embeddings = np.concatenate((premise_embeddings, hypothesis_embeddings), axis=1)\n",
    "    \n",
    "    return embeddings"
   ]
  },
  {
   "cell_type": "code",
   "execution_count": 5,
   "id": "cb2f574d",
   "metadata": {},
   "outputs": [
    {
     "data": {
      "application/vnd.jupyter.widget-view+json": {
       "model_id": "18076037c8324dd4a06803da864bc7cf",
       "version_major": 2,
       "version_minor": 0
      },
      "text/plain": [
       "Batches:   0%|          | 0/104 [00:00<?, ?it/s]"
      ]
     },
     "metadata": {},
     "output_type": "display_data"
    },
    {
     "data": {
      "application/vnd.jupyter.widget-view+json": {
       "model_id": "473b0e421b404f4b98c0dbd35257904e",
       "version_major": 2,
       "version_minor": 0
      },
      "text/plain": [
       "Batches:   0%|          | 0/104 [00:00<?, ?it/s]"
      ]
     },
     "metadata": {},
     "output_type": "display_data"
    }
   ],
   "source": [
    "embeddings = generate_embeddings(data, sentence_model)"
   ]
  },
  {
   "cell_type": "markdown",
   "id": "2e0ecdd0",
   "metadata": {},
   "source": [
    "# Predict using Model A (Traditional ML)"
   ]
  },
  {
   "cell_type": "code",
   "execution_count": 6,
   "id": "ef96b6c9",
   "metadata": {},
   "outputs": [
    {
     "name": "stderr",
     "output_type": "stream",
     "text": [
      "[Parallel(n_jobs=1)]: Using backend SequentialBackend with 1 concurrent workers.\n",
      "[Parallel(n_jobs=1)]: Done 100 out of 100 | elapsed:    0.0s finished\n"
     ]
    }
   ],
   "source": [
    "modelA = load('ensembleNLI10.joblib')\n",
    "predictA = modelA.predict(embeddings)"
   ]
  },
  {
   "cell_type": "code",
   "execution_count": 7,
   "id": "966fe7b2",
   "metadata": {},
   "outputs": [
    {
     "data": {
      "text/html": [
       "<div>\n",
       "<style scoped>\n",
       "    .dataframe tbody tr th:only-of-type {\n",
       "        vertical-align: middle;\n",
       "    }\n",
       "\n",
       "    .dataframe tbody tr th {\n",
       "        vertical-align: top;\n",
       "    }\n",
       "\n",
       "    .dataframe thead th {\n",
       "        text-align: right;\n",
       "    }\n",
       "</style>\n",
       "<table border=\"1\" class=\"dataframe\">\n",
       "  <thead>\n",
       "    <tr style=\"text-align: right;\">\n",
       "      <th></th>\n",
       "      <th>prediction</th>\n",
       "    </tr>\n",
       "  </thead>\n",
       "  <tbody>\n",
       "    <tr>\n",
       "      <th>0</th>\n",
       "      <td>1</td>\n",
       "    </tr>\n",
       "    <tr>\n",
       "      <th>1</th>\n",
       "      <td>0</td>\n",
       "    </tr>\n",
       "    <tr>\n",
       "      <th>2</th>\n",
       "      <td>0</td>\n",
       "    </tr>\n",
       "    <tr>\n",
       "      <th>3</th>\n",
       "      <td>0</td>\n",
       "    </tr>\n",
       "    <tr>\n",
       "      <th>4</th>\n",
       "      <td>1</td>\n",
       "    </tr>\n",
       "    <tr>\n",
       "      <th>...</th>\n",
       "      <td>...</td>\n",
       "    </tr>\n",
       "    <tr>\n",
       "      <th>3297</th>\n",
       "      <td>1</td>\n",
       "    </tr>\n",
       "    <tr>\n",
       "      <th>3298</th>\n",
       "      <td>0</td>\n",
       "    </tr>\n",
       "    <tr>\n",
       "      <th>3299</th>\n",
       "      <td>1</td>\n",
       "    </tr>\n",
       "    <tr>\n",
       "      <th>3300</th>\n",
       "      <td>1</td>\n",
       "    </tr>\n",
       "    <tr>\n",
       "      <th>3301</th>\n",
       "      <td>0</td>\n",
       "    </tr>\n",
       "  </tbody>\n",
       "</table>\n",
       "<p>3302 rows × 1 columns</p>\n",
       "</div>"
      ],
      "text/plain": [
       "      prediction\n",
       "0              1\n",
       "1              0\n",
       "2              0\n",
       "3              0\n",
       "4              1\n",
       "...          ...\n",
       "3297           1\n",
       "3298           0\n",
       "3299           1\n",
       "3300           1\n",
       "3301           0\n",
       "\n",
       "[3302 rows x 1 columns]"
      ]
     },
     "execution_count": 7,
     "metadata": {},
     "output_type": "execute_result"
    }
   ],
   "source": [
    "predictionsA_df = pd.DataFrame(predictA, columns=['prediction'])\n",
    "predictionsA_df"
   ]
  },
  {
   "cell_type": "code",
   "execution_count": 8,
   "id": "514e28fc",
   "metadata": {},
   "outputs": [],
   "source": [
    "predictionsA_df.to_csv('Group_28_A.csv', index=False)"
   ]
  },
  {
   "cell_type": "markdown",
   "id": "f7f66244",
   "metadata": {},
   "source": [
    "# Predict using Model B (Deep Learning)"
   ]
  },
  {
   "cell_type": "code",
   "execution_count": 9,
   "id": "9934ef4d",
   "metadata": {},
   "outputs": [],
   "source": [
    "device = torch.device(\"cuda\" if torch.cuda.is_available() else \"cpu\")"
   ]
  },
  {
   "cell_type": "code",
   "execution_count": 10,
   "id": "c6f3fe9c",
   "metadata": {},
   "outputs": [],
   "source": [
    "class AttentionLayer(nn.Module):\n",
    "    def __init__(self, input_dim):\n",
    "        super(AttentionLayer, self).__init__()\n",
    "        self.weight = nn.Parameter(torch.randn(input_dim, 1))\n",
    "        self.bias = nn.Parameter(torch.randn(1))\n",
    "\n",
    "    def forward(self, x):\n",
    "        e = torch.tanh(torch.matmul(x, self.weight) + self.bias)\n",
    "        a = torch.softmax(e, dim=1)\n",
    "        output = torch.sum(x * a, dim=1)\n",
    "        return output, a"
   ]
  },
  {
   "cell_type": "code",
   "execution_count": 11,
   "id": "94dedbc4",
   "metadata": {},
   "outputs": [],
   "source": [
    "class BiGRUAttentionModel(nn.Module):\n",
    "    def __init__(self, embedding_dim):\n",
    "        super(BiGRUAttentionModel, self).__init__()\n",
    "        self.bi_gru = nn.GRU(embedding_dim, 64, bidirectional=True, batch_first=True)\n",
    "        self.attention = AttentionLayer(128)\n",
    "        self.norm1 = nn.LayerNorm(128)\n",
    "        self.fc1 = nn.Linear(128, 64)\n",
    "        self.norm2 = nn.LayerNorm(64)\n",
    "        self.relu = nn.ReLU()\n",
    "        self.dropout = nn.Dropout(0.4)\n",
    "        self.fc2 = nn.Linear(64, 1)\n",
    "\n",
    "    def forward(self, x):\n",
    "        x, _ = self.bi_gru(x)\n",
    "        x, attn_weights = self.attention(x)\n",
    "        x = self.norm1(x)\n",
    "        x = self.fc1(x)\n",
    "        x = self.norm2(x)\n",
    "        x = self.relu(x)\n",
    "        x = self.dropout(x)\n",
    "        x = self.fc2(x)\n",
    "        return x"
   ]
  },
  {
   "cell_type": "code",
   "execution_count": 12,
   "id": "d43e6a76",
   "metadata": {},
   "outputs": [
    {
     "data": {
      "text/plain": [
       "BiGRUAttentionModel(\n",
       "  (bi_gru): GRU(768, 64, batch_first=True, bidirectional=True)\n",
       "  (attention): AttentionLayer()\n",
       "  (norm1): LayerNorm((128,), eps=1e-05, elementwise_affine=True)\n",
       "  (fc1): Linear(in_features=128, out_features=64, bias=True)\n",
       "  (norm2): LayerNorm((64,), eps=1e-05, elementwise_affine=True)\n",
       "  (relu): ReLU()\n",
       "  (dropout): Dropout(p=0.4, inplace=False)\n",
       "  (fc2): Linear(in_features=64, out_features=1, bias=True)\n",
       ")"
      ]
     },
     "execution_count": 12,
     "metadata": {},
     "output_type": "execute_result"
    }
   ],
   "source": [
    "embedding_dim = sentence_model.get_sentence_embedding_dimension() * 2\n",
    "modelB = BiGRUAttentionModel(embedding_dim)\n",
    "modelB.to(device)"
   ]
  },
  {
   "cell_type": "code",
   "execution_count": 13,
   "id": "905e070a",
   "metadata": {},
   "outputs": [
    {
     "data": {
      "text/plain": [
       "<All keys matched successfully>"
      ]
     },
     "execution_count": 13,
     "metadata": {},
     "output_type": "execute_result"
    }
   ],
   "source": [
    "modelB.load_state_dict(torch.load('AttentionGRU.pth', map_location=torch.device('cpu')))"
   ]
  },
  {
   "cell_type": "code",
   "execution_count": 14,
   "id": "3a3201c9",
   "metadata": {},
   "outputs": [
    {
     "data": {
      "text/plain": [
       "BiGRUAttentionModel(\n",
       "  (bi_gru): GRU(768, 64, batch_first=True, bidirectional=True)\n",
       "  (attention): AttentionLayer()\n",
       "  (norm1): LayerNorm((128,), eps=1e-05, elementwise_affine=True)\n",
       "  (fc1): Linear(in_features=128, out_features=64, bias=True)\n",
       "  (norm2): LayerNorm((64,), eps=1e-05, elementwise_affine=True)\n",
       "  (relu): ReLU()\n",
       "  (dropout): Dropout(p=0.4, inplace=False)\n",
       "  (fc2): Linear(in_features=64, out_features=1, bias=True)\n",
       ")"
      ]
     },
     "execution_count": 14,
     "metadata": {},
     "output_type": "execute_result"
    }
   ],
   "source": [
    "modelB.eval()"
   ]
  },
  {
   "cell_type": "code",
   "execution_count": 15,
   "id": "20b0dd37",
   "metadata": {},
   "outputs": [],
   "source": [
    "with torch.no_grad():\n",
    "    embeddings_tensor = torch.from_numpy(embeddings).float()\n",
    "    embeddings_tensor = embeddings_tensor.to(device)\n",
    "    outputs = modelB(embeddings_tensor.unsqueeze(1))\n",
    "    predictB = torch.sigmoid(outputs).round().cpu().numpy().astype(int)"
   ]
  },
  {
   "cell_type": "code",
   "execution_count": 16,
   "id": "07a8df55",
   "metadata": {},
   "outputs": [
    {
     "data": {
      "text/html": [
       "<div>\n",
       "<style scoped>\n",
       "    .dataframe tbody tr th:only-of-type {\n",
       "        vertical-align: middle;\n",
       "    }\n",
       "\n",
       "    .dataframe tbody tr th {\n",
       "        vertical-align: top;\n",
       "    }\n",
       "\n",
       "    .dataframe thead th {\n",
       "        text-align: right;\n",
       "    }\n",
       "</style>\n",
       "<table border=\"1\" class=\"dataframe\">\n",
       "  <thead>\n",
       "    <tr style=\"text-align: right;\">\n",
       "      <th></th>\n",
       "      <th>prediction</th>\n",
       "    </tr>\n",
       "  </thead>\n",
       "  <tbody>\n",
       "    <tr>\n",
       "      <th>0</th>\n",
       "      <td>1</td>\n",
       "    </tr>\n",
       "    <tr>\n",
       "      <th>1</th>\n",
       "      <td>1</td>\n",
       "    </tr>\n",
       "    <tr>\n",
       "      <th>2</th>\n",
       "      <td>0</td>\n",
       "    </tr>\n",
       "    <tr>\n",
       "      <th>3</th>\n",
       "      <td>1</td>\n",
       "    </tr>\n",
       "    <tr>\n",
       "      <th>4</th>\n",
       "      <td>1</td>\n",
       "    </tr>\n",
       "    <tr>\n",
       "      <th>...</th>\n",
       "      <td>...</td>\n",
       "    </tr>\n",
       "    <tr>\n",
       "      <th>3297</th>\n",
       "      <td>1</td>\n",
       "    </tr>\n",
       "    <tr>\n",
       "      <th>3298</th>\n",
       "      <td>0</td>\n",
       "    </tr>\n",
       "    <tr>\n",
       "      <th>3299</th>\n",
       "      <td>1</td>\n",
       "    </tr>\n",
       "    <tr>\n",
       "      <th>3300</th>\n",
       "      <td>1</td>\n",
       "    </tr>\n",
       "    <tr>\n",
       "      <th>3301</th>\n",
       "      <td>1</td>\n",
       "    </tr>\n",
       "  </tbody>\n",
       "</table>\n",
       "<p>3302 rows × 1 columns</p>\n",
       "</div>"
      ],
      "text/plain": [
       "      prediction\n",
       "0              1\n",
       "1              1\n",
       "2              0\n",
       "3              1\n",
       "4              1\n",
       "...          ...\n",
       "3297           1\n",
       "3298           0\n",
       "3299           1\n",
       "3300           1\n",
       "3301           1\n",
       "\n",
       "[3302 rows x 1 columns]"
      ]
     },
     "execution_count": 16,
     "metadata": {},
     "output_type": "execute_result"
    }
   ],
   "source": [
    "predictionB_df = pd.DataFrame(predictB, columns=['prediction'])\n",
    "predictionB_df"
   ]
  },
  {
   "cell_type": "code",
   "execution_count": 17,
   "id": "1f0862c2",
   "metadata": {},
   "outputs": [],
   "source": [
    "predictionB_df.to_csv('Group_28_B.csv', index=False)"
   ]
  },
  {
   "cell_type": "code",
   "execution_count": null,
   "id": "0f2f9b6e",
   "metadata": {},
   "outputs": [],
   "source": []
  }
 ],
 "metadata": {
  "kernelspec": {
   "display_name": "Python 3 (ipykernel)",
   "language": "python",
   "name": "python3"
  },
  "language_info": {
   "codemirror_mode": {
    "name": "ipython",
    "version": 3
   },
   "file_extension": ".py",
   "mimetype": "text/x-python",
   "name": "python",
   "nbconvert_exporter": "python",
   "pygments_lexer": "ipython3",
   "version": "3.11.4"
  }
 },
 "nbformat": 4,
 "nbformat_minor": 5
}
