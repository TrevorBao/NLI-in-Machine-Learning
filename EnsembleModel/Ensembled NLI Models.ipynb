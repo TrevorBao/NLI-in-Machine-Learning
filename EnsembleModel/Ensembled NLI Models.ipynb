{
 "cells": [
  {
   "cell_type": "code",
   "execution_count": 1,
   "id": "c89103c5",
   "metadata": {},
   "outputs": [],
   "source": [
    "# pip install -U sentence-transformers"
   ]
  },
  {
   "cell_type": "code",
   "execution_count": 2,
   "id": "682da3f9",
   "metadata": {},
   "outputs": [],
   "source": [
    "import pandas as pd\n",
    "import numpy as np\n",
    "from sentence_transformers import SentenceTransformer\n",
    "import torch\n",
    "import joblib\n",
    "from sklearn.ensemble import RandomForestClassifier, StackingClassifier, GradientBoostingClassifier\n",
    "from sklearn.metrics import accuracy_score, classification_report\n",
    "from sklearn.svm import SVC\n",
    "from sklearn.linear_model import LogisticRegression\n",
    "from sklearn.neighbors import KNeighborsClassifier\n",
    "from sklearn.preprocessing import StandardScaler\n",
    "from sklearn.pipeline import make_pipeline"
   ]
  },
  {
   "cell_type": "code",
   "execution_count": 3,
   "id": "45cff7b9",
   "metadata": {},
   "outputs": [],
   "source": [
    "# Load the data\n",
    "data = pd.read_csv('train.csv')\n",
    "validation_data = pd.read_csv('dev.csv')\n",
    "\n",
    "# Load the SBERT model\n",
    "model = SentenceTransformer('all-MiniLM-L6-v2')"
   ]
  },
  {
   "cell_type": "code",
   "execution_count": 5,
   "id": "620007a7",
   "metadata": {},
   "outputs": [],
   "source": [
    "def generate_embeddings(dataframe, model):\n",
    "    # Generate embeddings for premises and hypotheses separately\n",
    "    premise_embeddings = model.encode(dataframe['premise'].tolist(), show_progress_bar=True)\n",
    "    hypothesis_embeddings = model.encode(dataframe['hypothesis'].tolist(), show_progress_bar=True)\n",
    "    \n",
    "    # Combine the two sets of embeddings into one feature set\n",
    "    embeddings = np.concatenate((premise_embeddings, hypothesis_embeddings), axis=1)\n",
    "    \n",
    "    return embeddings"
   ]
  },
  {
   "cell_type": "code",
   "execution_count": 6,
   "id": "a0266c9e",
   "metadata": {},
   "outputs": [
    {
     "data": {
      "application/vnd.jupyter.widget-view+json": {
       "model_id": "79e8d450996a4abc9b8bc750f8b54727",
       "version_major": 2,
       "version_minor": 0
      },
      "text/plain": [
       "Batches:   0%|          | 0/842 [00:00<?, ?it/s]"
      ]
     },
     "metadata": {},
     "output_type": "display_data"
    },
    {
     "data": {
      "application/vnd.jupyter.widget-view+json": {
       "model_id": "0fc72cca8a774caab5e38590306823cd",
       "version_major": 2,
       "version_minor": 0
      },
      "text/plain": [
       "Batches:   0%|          | 0/842 [00:00<?, ?it/s]"
      ]
     },
     "metadata": {},
     "output_type": "display_data"
    },
    {
     "data": {
      "application/vnd.jupyter.widget-view+json": {
       "model_id": "e0dc2675abdb463096b3a915cc12968c",
       "version_major": 2,
       "version_minor": 0
      },
      "text/plain": [
       "Batches:   0%|          | 0/211 [00:00<?, ?it/s]"
      ]
     },
     "metadata": {},
     "output_type": "display_data"
    },
    {
     "data": {
      "application/vnd.jupyter.widget-view+json": {
       "model_id": "d5e5e00c6ae14a08876c378abb497a82",
       "version_major": 2,
       "version_minor": 0
      },
      "text/plain": [
       "Batches:   0%|          | 0/211 [00:00<?, ?it/s]"
      ]
     },
     "metadata": {},
     "output_type": "display_data"
    }
   ],
   "source": [
    "# Generate embeddings for training and validation data\n",
    "train_embeddings = generate_embeddings(data, model)\n",
    "validation_embeddings = generate_embeddings(validation_data, model)\n",
    "\n",
    "# Prepare the labels\n",
    "train_labels = data['label'].values\n",
    "validation_labels = validation_data['label'].values"
   ]
  },
  {
   "cell_type": "code",
   "execution_count": 9,
   "id": "0d789399",
   "metadata": {},
   "outputs": [],
   "source": [
    "# Define the base learners\n",
    "base_learners = [\n",
    "    ('rf', RandomForestClassifier(n_estimators=100, random_state=42, verbose=1)),\n",
    "    ('svm', make_pipeline(StandardScaler(), SVC(kernel='rbf', probability=True, verbose=True))),\n",
    "    ('logreg', make_pipeline(StandardScaler(), LogisticRegression(max_iter=500, solver='saga', random_state=42, verbose=1)))\n",
    "]"
   ]
  },
  {
   "cell_type": "code",
   "execution_count": 10,
   "id": "ca1edada",
   "metadata": {},
   "outputs": [],
   "source": [
    "# Define the Stacking Classifier\n",
    "# final_estimator = LogisticRegression(penalty='l2', max_iter=500, solver='saga', random_state=42, verbose=1)\n",
    "final_estimator = GradientBoostingClassifier(n_estimators=100, random_state=42, verbose=1)\n",
    "stacking_classifier = StackingClassifier(estimators=base_learners, final_estimator=final_estimator, n_jobs=-1)"
   ]
  },
  {
   "cell_type": "code",
   "execution_count": 11,
   "id": "5ec86b55",
   "metadata": {},
   "outputs": [
    {
     "name": "stdout",
     "output_type": "stream",
     "text": [
      "      Iter       Train Loss   Remaining Time \n",
      "         1           1.3448            4.38s\n",
      "         2           1.3120            4.26s\n",
      "         3           1.2851            3.86s\n",
      "         4           1.2628            3.99s\n",
      "         5           1.2443            4.05s\n",
      "         6           1.2287            3.87s\n",
      "         7           1.2157            4.05s\n",
      "         8           1.2048            3.98s\n",
      "         9           1.1956            3.98s\n",
      "        10           1.1880            3.92s\n",
      "        20           1.1531            3.43s\n",
      "        30           1.1451            3.04s\n",
      "        40           1.1415            2.61s\n",
      "        50           1.1390            2.17s\n",
      "        60           1.1371            1.74s\n",
      "        70           1.1353            1.31s\n",
      "        80           1.1339            0.87s\n",
      "        90           1.1319            0.44s\n",
      "       100           1.1308            0.00s\n"
     ]
    },
    {
     "data": {
      "text/html": [
       "<style>#sk-container-id-1 {color: black;}#sk-container-id-1 pre{padding: 0;}#sk-container-id-1 div.sk-toggleable {background-color: white;}#sk-container-id-1 label.sk-toggleable__label {cursor: pointer;display: block;width: 100%;margin-bottom: 0;padding: 0.3em;box-sizing: border-box;text-align: center;}#sk-container-id-1 label.sk-toggleable__label-arrow:before {content: \"▸\";float: left;margin-right: 0.25em;color: #696969;}#sk-container-id-1 label.sk-toggleable__label-arrow:hover:before {color: black;}#sk-container-id-1 div.sk-estimator:hover label.sk-toggleable__label-arrow:before {color: black;}#sk-container-id-1 div.sk-toggleable__content {max-height: 0;max-width: 0;overflow: hidden;text-align: left;background-color: #f0f8ff;}#sk-container-id-1 div.sk-toggleable__content pre {margin: 0.2em;color: black;border-radius: 0.25em;background-color: #f0f8ff;}#sk-container-id-1 input.sk-toggleable__control:checked~div.sk-toggleable__content {max-height: 200px;max-width: 100%;overflow: auto;}#sk-container-id-1 input.sk-toggleable__control:checked~label.sk-toggleable__label-arrow:before {content: \"▾\";}#sk-container-id-1 div.sk-estimator input.sk-toggleable__control:checked~label.sk-toggleable__label {background-color: #d4ebff;}#sk-container-id-1 div.sk-label input.sk-toggleable__control:checked~label.sk-toggleable__label {background-color: #d4ebff;}#sk-container-id-1 input.sk-hidden--visually {border: 0;clip: rect(1px 1px 1px 1px);clip: rect(1px, 1px, 1px, 1px);height: 1px;margin: -1px;overflow: hidden;padding: 0;position: absolute;width: 1px;}#sk-container-id-1 div.sk-estimator {font-family: monospace;background-color: #f0f8ff;border: 1px dotted black;border-radius: 0.25em;box-sizing: border-box;margin-bottom: 0.5em;}#sk-container-id-1 div.sk-estimator:hover {background-color: #d4ebff;}#sk-container-id-1 div.sk-parallel-item::after {content: \"\";width: 100%;border-bottom: 1px solid gray;flex-grow: 1;}#sk-container-id-1 div.sk-label:hover label.sk-toggleable__label {background-color: #d4ebff;}#sk-container-id-1 div.sk-serial::before {content: \"\";position: absolute;border-left: 1px solid gray;box-sizing: border-box;top: 0;bottom: 0;left: 50%;z-index: 0;}#sk-container-id-1 div.sk-serial {display: flex;flex-direction: column;align-items: center;background-color: white;padding-right: 0.2em;padding-left: 0.2em;position: relative;}#sk-container-id-1 div.sk-item {position: relative;z-index: 1;}#sk-container-id-1 div.sk-parallel {display: flex;align-items: stretch;justify-content: center;background-color: white;position: relative;}#sk-container-id-1 div.sk-item::before, #sk-container-id-1 div.sk-parallel-item::before {content: \"\";position: absolute;border-left: 1px solid gray;box-sizing: border-box;top: 0;bottom: 0;left: 50%;z-index: -1;}#sk-container-id-1 div.sk-parallel-item {display: flex;flex-direction: column;z-index: 1;position: relative;background-color: white;}#sk-container-id-1 div.sk-parallel-item:first-child::after {align-self: flex-end;width: 50%;}#sk-container-id-1 div.sk-parallel-item:last-child::after {align-self: flex-start;width: 50%;}#sk-container-id-1 div.sk-parallel-item:only-child::after {width: 0;}#sk-container-id-1 div.sk-dashed-wrapped {border: 1px dashed gray;margin: 0 0.4em 0.5em 0.4em;box-sizing: border-box;padding-bottom: 0.4em;background-color: white;}#sk-container-id-1 div.sk-label label {font-family: monospace;font-weight: bold;display: inline-block;line-height: 1.2em;}#sk-container-id-1 div.sk-label-container {text-align: center;}#sk-container-id-1 div.sk-container {/* jupyter's `normalize.less` sets `[hidden] { display: none; }` but bootstrap.min.css set `[hidden] { display: none !important; }` so we also need the `!important` here to be able to override the default hidden behavior on the sphinx rendered scikit-learn.org. See: https://github.com/scikit-learn/scikit-learn/issues/21755 */display: inline-block !important;position: relative;}#sk-container-id-1 div.sk-text-repr-fallback {display: none;}</style><div id=\"sk-container-id-1\" class=\"sk-top-container\"><div class=\"sk-text-repr-fallback\"><pre>StackingClassifier(estimators=[(&#x27;rf&#x27;,\n",
       "                                RandomForestClassifier(random_state=42,\n",
       "                                                       verbose=1)),\n",
       "                               (&#x27;svm&#x27;,\n",
       "                                Pipeline(steps=[(&#x27;standardscaler&#x27;,\n",
       "                                                 StandardScaler()),\n",
       "                                                (&#x27;svc&#x27;,\n",
       "                                                 SVC(probability=True,\n",
       "                                                     verbose=True))])),\n",
       "                               (&#x27;logreg&#x27;,\n",
       "                                Pipeline(steps=[(&#x27;standardscaler&#x27;,\n",
       "                                                 StandardScaler()),\n",
       "                                                (&#x27;logisticregression&#x27;,\n",
       "                                                 LogisticRegression(max_iter=500,\n",
       "                                                                    random_state=42,\n",
       "                                                                    solver=&#x27;saga&#x27;,\n",
       "                                                                    verbose=1))]))],\n",
       "                   final_estimator=GradientBoostingClassifier(random_state=42,\n",
       "                                                              verbose=1),\n",
       "                   n_jobs=-1)</pre><b>In a Jupyter environment, please rerun this cell to show the HTML representation or trust the notebook. <br />On GitHub, the HTML representation is unable to render, please try loading this page with nbviewer.org.</b></div><div class=\"sk-container\" hidden><div class=\"sk-item sk-dashed-wrapped\"><div class=\"sk-label-container\"><div class=\"sk-label sk-toggleable\"><input class=\"sk-toggleable__control sk-hidden--visually\" id=\"sk-estimator-id-1\" type=\"checkbox\" ><label for=\"sk-estimator-id-1\" class=\"sk-toggleable__label sk-toggleable__label-arrow\">StackingClassifier</label><div class=\"sk-toggleable__content\"><pre>StackingClassifier(estimators=[(&#x27;rf&#x27;,\n",
       "                                RandomForestClassifier(random_state=42,\n",
       "                                                       verbose=1)),\n",
       "                               (&#x27;svm&#x27;,\n",
       "                                Pipeline(steps=[(&#x27;standardscaler&#x27;,\n",
       "                                                 StandardScaler()),\n",
       "                                                (&#x27;svc&#x27;,\n",
       "                                                 SVC(probability=True,\n",
       "                                                     verbose=True))])),\n",
       "                               (&#x27;logreg&#x27;,\n",
       "                                Pipeline(steps=[(&#x27;standardscaler&#x27;,\n",
       "                                                 StandardScaler()),\n",
       "                                                (&#x27;logisticregression&#x27;,\n",
       "                                                 LogisticRegression(max_iter=500,\n",
       "                                                                    random_state=42,\n",
       "                                                                    solver=&#x27;saga&#x27;,\n",
       "                                                                    verbose=1))]))],\n",
       "                   final_estimator=GradientBoostingClassifier(random_state=42,\n",
       "                                                              verbose=1),\n",
       "                   n_jobs=-1)</pre></div></div></div><div class=\"sk-serial\"><div class=\"sk-item\"><div class=\"sk-parallel\"><div class=\"sk-parallel-item\"><div class=\"sk-item\"><div class=\"sk-label-container\"><div class=\"sk-label sk-toggleable\"><label>rf</label></div></div><div class=\"sk-serial\"><div class=\"sk-item\"><div class=\"sk-estimator sk-toggleable\"><input class=\"sk-toggleable__control sk-hidden--visually\" id=\"sk-estimator-id-2\" type=\"checkbox\" ><label for=\"sk-estimator-id-2\" class=\"sk-toggleable__label sk-toggleable__label-arrow\">RandomForestClassifier</label><div class=\"sk-toggleable__content\"><pre>RandomForestClassifier(random_state=42, verbose=1)</pre></div></div></div></div></div></div><div class=\"sk-parallel-item\"><div class=\"sk-item\"><div class=\"sk-label-container\"><div class=\"sk-label sk-toggleable\"><label>svm</label></div></div><div class=\"sk-serial\"><div class=\"sk-item\"><div class=\"sk-serial\"><div class=\"sk-item\"><div class=\"sk-estimator sk-toggleable\"><input class=\"sk-toggleable__control sk-hidden--visually\" id=\"sk-estimator-id-3\" type=\"checkbox\" ><label for=\"sk-estimator-id-3\" class=\"sk-toggleable__label sk-toggleable__label-arrow\">StandardScaler</label><div class=\"sk-toggleable__content\"><pre>StandardScaler()</pre></div></div></div><div class=\"sk-item\"><div class=\"sk-estimator sk-toggleable\"><input class=\"sk-toggleable__control sk-hidden--visually\" id=\"sk-estimator-id-4\" type=\"checkbox\" ><label for=\"sk-estimator-id-4\" class=\"sk-toggleable__label sk-toggleable__label-arrow\">SVC</label><div class=\"sk-toggleable__content\"><pre>SVC(probability=True, verbose=True)</pre></div></div></div></div></div></div></div></div><div class=\"sk-parallel-item\"><div class=\"sk-item\"><div class=\"sk-label-container\"><div class=\"sk-label sk-toggleable\"><label>logreg</label></div></div><div class=\"sk-serial\"><div class=\"sk-item\"><div class=\"sk-serial\"><div class=\"sk-item\"><div class=\"sk-estimator sk-toggleable\"><input class=\"sk-toggleable__control sk-hidden--visually\" id=\"sk-estimator-id-5\" type=\"checkbox\" ><label for=\"sk-estimator-id-5\" class=\"sk-toggleable__label sk-toggleable__label-arrow\">StandardScaler</label><div class=\"sk-toggleable__content\"><pre>StandardScaler()</pre></div></div></div><div class=\"sk-item\"><div class=\"sk-estimator sk-toggleable\"><input class=\"sk-toggleable__control sk-hidden--visually\" id=\"sk-estimator-id-6\" type=\"checkbox\" ><label for=\"sk-estimator-id-6\" class=\"sk-toggleable__label sk-toggleable__label-arrow\">LogisticRegression</label><div class=\"sk-toggleable__content\"><pre>LogisticRegression(max_iter=500, random_state=42, solver=&#x27;saga&#x27;, verbose=1)</pre></div></div></div></div></div></div></div></div></div></div><div class=\"sk-item\"><div class=\"sk-parallel\"><div class=\"sk-parallel-item\"><div class=\"sk-item\"><div class=\"sk-label-container\"><div class=\"sk-label sk-toggleable\"><label>final_estimator</label></div></div><div class=\"sk-serial\"><div class=\"sk-item\"><div class=\"sk-estimator sk-toggleable\"><input class=\"sk-toggleable__control sk-hidden--visually\" id=\"sk-estimator-id-7\" type=\"checkbox\" ><label for=\"sk-estimator-id-7\" class=\"sk-toggleable__label sk-toggleable__label-arrow\">GradientBoostingClassifier</label><div class=\"sk-toggleable__content\"><pre>GradientBoostingClassifier(random_state=42, verbose=1)</pre></div></div></div></div></div></div></div></div></div></div></div></div>"
      ],
      "text/plain": [
       "StackingClassifier(estimators=[('rf',\n",
       "                                RandomForestClassifier(random_state=42,\n",
       "                                                       verbose=1)),\n",
       "                               ('svm',\n",
       "                                Pipeline(steps=[('standardscaler',\n",
       "                                                 StandardScaler()),\n",
       "                                                ('svc',\n",
       "                                                 SVC(probability=True,\n",
       "                                                     verbose=True))])),\n",
       "                               ('logreg',\n",
       "                                Pipeline(steps=[('standardscaler',\n",
       "                                                 StandardScaler()),\n",
       "                                                ('logisticregression',\n",
       "                                                 LogisticRegression(max_iter=500,\n",
       "                                                                    random_state=42,\n",
       "                                                                    solver='saga',\n",
       "                                                                    verbose=1))]))],\n",
       "                   final_estimator=GradientBoostingClassifier(random_state=42,\n",
       "                                                              verbose=1),\n",
       "                   n_jobs=-1)"
      ]
     },
     "execution_count": 11,
     "metadata": {},
     "output_type": "execute_result"
    }
   ],
   "source": [
    "# Train the Stacking Classifier\n",
    "stacking_classifier.fit(train_embeddings, train_labels)"
   ]
  },
  {
   "cell_type": "code",
   "execution_count": 12,
   "id": "03ac48c9",
   "metadata": {},
   "outputs": [
    {
     "data": {
      "text/plain": [
       "['ensembleNLI10.joblib']"
      ]
     },
     "execution_count": 12,
     "metadata": {},
     "output_type": "execute_result"
    }
   ],
   "source": [
    "# Save the trained stacking classifier to a file\n",
    "model_filename = 'ensembleNLI10.joblib'\n",
    "joblib.dump(stacking_classifier, model_filename)"
   ]
  },
  {
   "cell_type": "code",
   "execution_count": 13,
   "id": "defae0ed",
   "metadata": {},
   "outputs": [
    {
     "name": "stderr",
     "output_type": "stream",
     "text": [
      "[Parallel(n_jobs=1)]: Using backend SequentialBackend with 1 concurrent workers.\n",
      "[Parallel(n_jobs=1)]: Done 100 out of 100 | elapsed:    0.1s finished\n"
     ]
    },
    {
     "name": "stdout",
     "output_type": "stream",
     "text": [
      "Validation Accuracy: 0.6936321804957696\n",
      "              precision    recall  f1-score   support\n",
      "\n",
      "           0       0.71      0.63      0.66      3259\n",
      "           1       0.68      0.76      0.72      3478\n",
      "\n",
      "    accuracy                           0.69      6737\n",
      "   macro avg       0.70      0.69      0.69      6737\n",
      "weighted avg       0.69      0.69      0.69      6737\n",
      "\n"
     ]
    }
   ],
   "source": [
    "# Evaluate the Stacking Classifier on the validation data\n",
    "validation_predictions = stacking_classifier.predict(validation_embeddings)\n",
    "\n",
    "\n",
    "accuracy = accuracy_score(validation_labels, validation_predictions)\n",
    "report = classification_report(validation_labels, validation_predictions)\n",
    "print(f'Validation Accuracy: {accuracy}')\n",
    "print(report)"
   ]
  },
  {
   "cell_type": "code",
   "execution_count": 14,
   "id": "8bcc16fc",
   "metadata": {},
   "outputs": [],
   "source": [
    "predictions_df = pd.DataFrame(validation_predictions, columns=['prediction'])\n",
    "predictions_df.to_csv('validation_predictions.csv', index=False)"
   ]
  },
  {
   "cell_type": "code",
   "execution_count": null,
   "id": "6b961303",
   "metadata": {},
   "outputs": [],
   "source": []
  }
 ],
 "metadata": {
  "kernelspec": {
   "display_name": "Python 3 (ipykernel)",
   "language": "python",
   "name": "python3"
  },
  "language_info": {
   "codemirror_mode": {
    "name": "ipython",
    "version": 3
   },
   "file_extension": ".py",
   "mimetype": "text/x-python",
   "name": "python",
   "nbconvert_exporter": "python",
   "pygments_lexer": "ipython3",
   "version": "3.11.4"
  }
 },
 "nbformat": 4,
 "nbformat_minor": 5
}
