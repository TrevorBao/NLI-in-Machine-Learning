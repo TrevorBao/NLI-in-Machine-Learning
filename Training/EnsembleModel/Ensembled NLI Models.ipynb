{
 "cells": [
  {
   "cell_type": "code",
   "execution_count": 1,
   "id": "c89103c5",
   "metadata": {},
   "outputs": [],
   "source": [
    "# pip install -U sentence-transformers"
   ]
  },
  {
   "cell_type": "code",
   "execution_count": 1,
   "id": "682da3f9",
   "metadata": {},
   "outputs": [],
   "source": [
    "import pandas as pd\n",
    "import numpy as np\n",
    "from sentence_transformers import SentenceTransformer\n",
    "import torch\n",
    "import joblib\n",
    "from sklearn.ensemble import RandomForestClassifier, StackingClassifier, GradientBoostingClassifier\n",
    "from sklearn.metrics import accuracy_score, classification_report\n",
    "from sklearn.svm import SVC\n",
    "from sklearn.linear_model import LogisticRegression\n",
    "from sklearn.neighbors import KNeighborsClassifier\n",
    "from sklearn.preprocessing import StandardScaler\n",
    "from sklearn.pipeline import make_pipeline"
   ]
  },
  {
   "cell_type": "code",
   "execution_count": 2,
   "id": "45cff7b9",
   "metadata": {},
   "outputs": [],
   "source": [
    "# Load the data\n",
    "data = pd.read_csv('train.csv')\n",
    "validation_data = pd.read_csv('dev.csv')\n",
    "\n",
    "# Load the SBERT model\n",
    "model = SentenceTransformer('all-MiniLM-L6-v2')"
   ]
  },
  {
   "cell_type": "code",
   "execution_count": 3,
   "id": "620007a7",
   "metadata": {},
   "outputs": [],
   "source": [
    "def generate_embeddings(dataframe, model):\n",
    "    # Generate embeddings for premises and hypotheses separately\n",
    "    premise_embeddings = model.encode(dataframe['premise'].tolist(), show_progress_bar=True)\n",
    "    hypothesis_embeddings = model.encode(dataframe['hypothesis'].tolist(), show_progress_bar=True)\n",
    "    \n",
    "    # Combine the two sets of embeddings into one feature set\n",
    "    embeddings = np.concatenate((premise_embeddings, hypothesis_embeddings), axis=1)\n",
    "    \n",
    "    return embeddings"
   ]
  },
  {
   "cell_type": "code",
   "execution_count": 4,
   "id": "a0266c9e",
   "metadata": {},
   "outputs": [
    {
     "data": {
      "application/vnd.jupyter.widget-view+json": {
       "model_id": "63fe429838514fb39eefd3bd0ef232a7",
       "version_major": 2,
       "version_minor": 0
      },
      "text/plain": [
       "Batches:   0%|          | 0/842 [00:00<?, ?it/s]"
      ]
     },
     "metadata": {},
     "output_type": "display_data"
    },
    {
     "data": {
      "application/vnd.jupyter.widget-view+json": {
       "model_id": "7de89b632fe443df9d4aaa9a00b47a09",
       "version_major": 2,
       "version_minor": 0
      },
      "text/plain": [
       "Batches:   0%|          | 0/842 [00:00<?, ?it/s]"
      ]
     },
     "metadata": {},
     "output_type": "display_data"
    },
    {
     "data": {
      "application/vnd.jupyter.widget-view+json": {
       "model_id": "ef51fe0e6367440fa83623f60962ceab",
       "version_major": 2,
       "version_minor": 0
      },
      "text/plain": [
       "Batches:   0%|          | 0/211 [00:00<?, ?it/s]"
      ]
     },
     "metadata": {},
     "output_type": "display_data"
    },
    {
     "data": {
      "application/vnd.jupyter.widget-view+json": {
       "model_id": "83fc266d94dd4f8d819cd95595be7b1b",
       "version_major": 2,
       "version_minor": 0
      },
      "text/plain": [
       "Batches:   0%|          | 0/211 [00:00<?, ?it/s]"
      ]
     },
     "metadata": {},
     "output_type": "display_data"
    }
   ],
   "source": [
    "# Generate embeddings for training and validation data\n",
    "train_embeddings = generate_embeddings(data, model)\n",
    "validation_embeddings = generate_embeddings(validation_data, model)\n",
    "\n",
    "# Prepare the labels\n",
    "train_labels = data['label'].values\n",
    "validation_labels = validation_data['label'].values"
   ]
  },
  {
   "cell_type": "code",
   "execution_count": 5,
   "id": "0d789399",
   "metadata": {},
   "outputs": [],
   "source": [
    "# Define the base learners\n",
    "base_learners = [\n",
    "    ('rf', RandomForestClassifier(n_estimators=100, random_state=42, verbose=1)),\n",
    "    ('svm', make_pipeline(StandardScaler(), SVC(kernel='rbf', probability=True, verbose=True))),\n",
    "    ('logreg', make_pipeline(StandardScaler(), LogisticRegression(max_iter=500, solver='saga', random_state=42, verbose=1)))\n",
    "]"
   ]
  },
  {
   "cell_type": "code",
   "execution_count": 6,
   "id": "ca1edada",
   "metadata": {},
   "outputs": [],
   "source": [
    "# Define the Stacking Classifier\n",
    "# final_estimator = LogisticRegression(penalty='l2', max_iter=500, solver='saga', random_state=42, verbose=1)\n",
    "final_estimator = GradientBoostingClassifier(n_estimators=100, random_state=42, verbose=1)\n",
    "stacking_classifier = StackingClassifier(estimators=base_learners, final_estimator=final_estimator, n_jobs=-1)"
   ]
  },
  {
   "cell_type": "code",
   "execution_count": null,
   "id": "5ec86b55",
   "metadata": {},
   "outputs": [],
   "source": [
    "# Train the Stacking Classifier\n",
    "stacking_classifier.fit(train_embeddings, train_labels)"
   ]
  },
  {
   "cell_type": "code",
   "execution_count": null,
   "id": "03ac48c9",
   "metadata": {},
   "outputs": [],
   "source": [
    "# Save the trained stacking classifier to a file\n",
    "model_filename = 'ensembleNLI10.joblib'\n",
    "joblib.dump(stacking_classifier, model_filename)"
   ]
  },
  {
   "cell_type": "code",
   "execution_count": 13,
   "id": "defae0ed",
   "metadata": {},
   "outputs": [
    {
     "name": "stderr",
     "output_type": "stream",
     "text": [
      "[Parallel(n_jobs=1)]: Using backend SequentialBackend with 1 concurrent workers.\n",
      "[Parallel(n_jobs=1)]: Done 100 out of 100 | elapsed:    0.1s finished\n"
     ]
    },
    {
     "name": "stdout",
     "output_type": "stream",
     "text": [
      "Validation Accuracy: 0.6936321804957696\n",
      "              precision    recall  f1-score   support\n",
      "\n",
      "           0       0.71      0.63      0.66      3259\n",
      "           1       0.68      0.76      0.72      3478\n",
      "\n",
      "    accuracy                           0.69      6737\n",
      "   macro avg       0.70      0.69      0.69      6737\n",
      "weighted avg       0.69      0.69      0.69      6737\n",
      "\n"
     ]
    }
   ],
   "source": [
    "# Evaluate the Stacking Classifier on the validation data\n",
    "validation_predictions = stacking_classifier.predict(validation_embeddings)\n",
    "\n",
    "\n",
    "accuracy = accuracy_score(validation_labels, validation_predictions)\n",
    "report = classification_report(validation_labels, validation_predictions)\n",
    "print(f'Validation Accuracy: {accuracy}')\n",
    "print(report)"
   ]
  },
  {
   "cell_type": "code",
   "execution_count": 14,
   "id": "8bcc16fc",
   "metadata": {},
   "outputs": [],
   "source": [
    "predictions_df = pd.DataFrame(validation_predictions, columns=['prediction'])\n",
    "predictions_df.to_csv('validation_predictions.csv', index=False)"
   ]
  },
  {
   "cell_type": "code",
   "execution_count": null,
   "id": "6b961303",
   "metadata": {},
   "outputs": [],
   "source": []
  }
 ],
 "metadata": {
  "kernelspec": {
   "display_name": "Python 3 (ipykernel)",
   "language": "python",
   "name": "python3"
  },
  "language_info": {
   "codemirror_mode": {
    "name": "ipython",
    "version": 3
   },
   "file_extension": ".py",
   "mimetype": "text/x-python",
   "name": "python",
   "nbconvert_exporter": "python",
   "pygments_lexer": "ipython3",
   "version": "3.11.4"
  }
 },
 "nbformat": 4,
 "nbformat_minor": 5
}
